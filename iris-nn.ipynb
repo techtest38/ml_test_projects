{
 "cells": [
  {
   "cell_type": "code",
   "execution_count": 1,
   "metadata": {},
   "outputs": [],
   "source": [
    "import numpy as np\n",
    "import pandas as pd\n",
    "import matplotlib.pyplot as plt"
   ]
  },
  {
   "cell_type": "code",
   "execution_count": 2,
   "metadata": {},
   "outputs": [],
   "source": [
    "df = pd.read_csv('Iris.csv')"
   ]
  },
  {
   "cell_type": "code",
   "execution_count": 3,
   "metadata": {},
   "outputs": [
    {
     "data": {
      "text/html": [
       "<div>\n",
       "<style scoped>\n",
       "    .dataframe tbody tr th:only-of-type {\n",
       "        vertical-align: middle;\n",
       "    }\n",
       "\n",
       "    .dataframe tbody tr th {\n",
       "        vertical-align: top;\n",
       "    }\n",
       "\n",
       "    .dataframe thead th {\n",
       "        text-align: right;\n",
       "    }\n",
       "</style>\n",
       "<table border=\"1\" class=\"dataframe\">\n",
       "  <thead>\n",
       "    <tr style=\"text-align: right;\">\n",
       "      <th></th>\n",
       "      <th>Id</th>\n",
       "      <th>SepalLengthCm</th>\n",
       "      <th>SepalWidthCm</th>\n",
       "      <th>PetalLengthCm</th>\n",
       "      <th>PetalWidthCm</th>\n",
       "      <th>Species</th>\n",
       "    </tr>\n",
       "  </thead>\n",
       "  <tbody>\n",
       "    <tr>\n",
       "      <th>0</th>\n",
       "      <td>1</td>\n",
       "      <td>5.1</td>\n",
       "      <td>3.5</td>\n",
       "      <td>1.4</td>\n",
       "      <td>0.2</td>\n",
       "      <td>Iris-setosa</td>\n",
       "    </tr>\n",
       "    <tr>\n",
       "      <th>1</th>\n",
       "      <td>2</td>\n",
       "      <td>4.9</td>\n",
       "      <td>3.0</td>\n",
       "      <td>1.4</td>\n",
       "      <td>0.2</td>\n",
       "      <td>Iris-setosa</td>\n",
       "    </tr>\n",
       "    <tr>\n",
       "      <th>2</th>\n",
       "      <td>3</td>\n",
       "      <td>4.7</td>\n",
       "      <td>3.2</td>\n",
       "      <td>1.3</td>\n",
       "      <td>0.2</td>\n",
       "      <td>Iris-setosa</td>\n",
       "    </tr>\n",
       "    <tr>\n",
       "      <th>3</th>\n",
       "      <td>4</td>\n",
       "      <td>4.6</td>\n",
       "      <td>3.1</td>\n",
       "      <td>1.5</td>\n",
       "      <td>0.2</td>\n",
       "      <td>Iris-setosa</td>\n",
       "    </tr>\n",
       "    <tr>\n",
       "      <th>4</th>\n",
       "      <td>5</td>\n",
       "      <td>5.0</td>\n",
       "      <td>3.6</td>\n",
       "      <td>1.4</td>\n",
       "      <td>0.2</td>\n",
       "      <td>Iris-setosa</td>\n",
       "    </tr>\n",
       "  </tbody>\n",
       "</table>\n",
       "</div>"
      ],
      "text/plain": [
       "   Id  SepalLengthCm  SepalWidthCm  PetalLengthCm  PetalWidthCm      Species\n",
       "0   1            5.1           3.5            1.4           0.2  Iris-setosa\n",
       "1   2            4.9           3.0            1.4           0.2  Iris-setosa\n",
       "2   3            4.7           3.2            1.3           0.2  Iris-setosa\n",
       "3   4            4.6           3.1            1.5           0.2  Iris-setosa\n",
       "4   5            5.0           3.6            1.4           0.2  Iris-setosa"
      ]
     },
     "execution_count": 3,
     "metadata": {},
     "output_type": "execute_result"
    }
   ],
   "source": [
    "df.head()"
   ]
  },
  {
   "cell_type": "code",
   "execution_count": 4,
   "metadata": {},
   "outputs": [
    {
     "data": {
      "text/html": [
       "<div>\n",
       "<style scoped>\n",
       "    .dataframe tbody tr th:only-of-type {\n",
       "        vertical-align: middle;\n",
       "    }\n",
       "\n",
       "    .dataframe tbody tr th {\n",
       "        vertical-align: top;\n",
       "    }\n",
       "\n",
       "    .dataframe thead th {\n",
       "        text-align: right;\n",
       "    }\n",
       "</style>\n",
       "<table border=\"1\" class=\"dataframe\">\n",
       "  <thead>\n",
       "    <tr style=\"text-align: right;\">\n",
       "      <th></th>\n",
       "      <th>Id</th>\n",
       "      <th>SepalLengthCm</th>\n",
       "      <th>SepalWidthCm</th>\n",
       "      <th>PetalLengthCm</th>\n",
       "      <th>PetalWidthCm</th>\n",
       "      <th>Species</th>\n",
       "    </tr>\n",
       "  </thead>\n",
       "  <tbody>\n",
       "    <tr>\n",
       "      <th>0</th>\n",
       "      <td>1</td>\n",
       "      <td>5.1</td>\n",
       "      <td>3.5</td>\n",
       "      <td>1.4</td>\n",
       "      <td>0.2</td>\n",
       "      <td>0</td>\n",
       "    </tr>\n",
       "    <tr>\n",
       "      <th>1</th>\n",
       "      <td>2</td>\n",
       "      <td>4.9</td>\n",
       "      <td>3.0</td>\n",
       "      <td>1.4</td>\n",
       "      <td>0.2</td>\n",
       "      <td>0</td>\n",
       "    </tr>\n",
       "    <tr>\n",
       "      <th>2</th>\n",
       "      <td>3</td>\n",
       "      <td>4.7</td>\n",
       "      <td>3.2</td>\n",
       "      <td>1.3</td>\n",
       "      <td>0.2</td>\n",
       "      <td>0</td>\n",
       "    </tr>\n",
       "    <tr>\n",
       "      <th>3</th>\n",
       "      <td>4</td>\n",
       "      <td>4.6</td>\n",
       "      <td>3.1</td>\n",
       "      <td>1.5</td>\n",
       "      <td>0.2</td>\n",
       "      <td>0</td>\n",
       "    </tr>\n",
       "    <tr>\n",
       "      <th>4</th>\n",
       "      <td>5</td>\n",
       "      <td>5.0</td>\n",
       "      <td>3.6</td>\n",
       "      <td>1.4</td>\n",
       "      <td>0.2</td>\n",
       "      <td>0</td>\n",
       "    </tr>\n",
       "  </tbody>\n",
       "</table>\n",
       "</div>"
      ],
      "text/plain": [
       "   Id  SepalLengthCm  SepalWidthCm  PetalLengthCm  PetalWidthCm  Species\n",
       "0   1            5.1           3.5            1.4           0.2        0\n",
       "1   2            4.9           3.0            1.4           0.2        0\n",
       "2   3            4.7           3.2            1.3           0.2        0\n",
       "3   4            4.6           3.1            1.5           0.2        0\n",
       "4   5            5.0           3.6            1.4           0.2        0"
      ]
     },
     "execution_count": 4,
     "metadata": {},
     "output_type": "execute_result"
    }
   ],
   "source": [
    "df.loc[df.Species == 'Iris-setosa', 'Species'] = 0\n",
    "df.loc[df.Species == 'Iris-versicolor', 'Species'] = 1\n",
    "df.loc[df.Species == 'Iris-virginica', 'Species'] = 2\n",
    "\n",
    "df.head()"
   ]
  },
  {
   "cell_type": "code",
   "execution_count": 5,
   "metadata": {},
   "outputs": [
    {
     "data": {
      "text/html": [
       "<div>\n",
       "<style scoped>\n",
       "    .dataframe tbody tr th:only-of-type {\n",
       "        vertical-align: middle;\n",
       "    }\n",
       "\n",
       "    .dataframe tbody tr th {\n",
       "        vertical-align: top;\n",
       "    }\n",
       "\n",
       "    .dataframe thead th {\n",
       "        text-align: right;\n",
       "    }\n",
       "</style>\n",
       "<table border=\"1\" class=\"dataframe\">\n",
       "  <thead>\n",
       "    <tr style=\"text-align: right;\">\n",
       "      <th></th>\n",
       "      <th>SepalLengthCm</th>\n",
       "      <th>SepalWidthCm</th>\n",
       "      <th>PetalLengthCm</th>\n",
       "      <th>PetalWidthCm</th>\n",
       "      <th>Species</th>\n",
       "    </tr>\n",
       "  </thead>\n",
       "  <tbody>\n",
       "    <tr>\n",
       "      <th>0</th>\n",
       "      <td>5.1</td>\n",
       "      <td>3.5</td>\n",
       "      <td>1.4</td>\n",
       "      <td>0.2</td>\n",
       "      <td>0</td>\n",
       "    </tr>\n",
       "    <tr>\n",
       "      <th>1</th>\n",
       "      <td>4.9</td>\n",
       "      <td>3.0</td>\n",
       "      <td>1.4</td>\n",
       "      <td>0.2</td>\n",
       "      <td>0</td>\n",
       "    </tr>\n",
       "    <tr>\n",
       "      <th>2</th>\n",
       "      <td>4.7</td>\n",
       "      <td>3.2</td>\n",
       "      <td>1.3</td>\n",
       "      <td>0.2</td>\n",
       "      <td>0</td>\n",
       "    </tr>\n",
       "    <tr>\n",
       "      <th>3</th>\n",
       "      <td>4.6</td>\n",
       "      <td>3.1</td>\n",
       "      <td>1.5</td>\n",
       "      <td>0.2</td>\n",
       "      <td>0</td>\n",
       "    </tr>\n",
       "    <tr>\n",
       "      <th>4</th>\n",
       "      <td>5.0</td>\n",
       "      <td>3.6</td>\n",
       "      <td>1.4</td>\n",
       "      <td>0.2</td>\n",
       "      <td>0</td>\n",
       "    </tr>\n",
       "  </tbody>\n",
       "</table>\n",
       "</div>"
      ],
      "text/plain": [
       "   SepalLengthCm  SepalWidthCm  PetalLengthCm  PetalWidthCm  Species\n",
       "0            5.1           3.5            1.4           0.2        0\n",
       "1            4.9           3.0            1.4           0.2        0\n",
       "2            4.7           3.2            1.3           0.2        0\n",
       "3            4.6           3.1            1.5           0.2        0\n",
       "4            5.0           3.6            1.4           0.2        0"
      ]
     },
     "execution_count": 5,
     "metadata": {},
     "output_type": "execute_result"
    }
   ],
   "source": [
    "df = df.drop(columns=['Id'])\n",
    "df.head()"
   ]
  },
  {
   "cell_type": "code",
   "execution_count": 6,
   "metadata": {
    "scrolled": true
   },
   "outputs": [
    {
     "data": {
      "text/html": [
       "<div>\n",
       "<style scoped>\n",
       "    .dataframe tbody tr th:only-of-type {\n",
       "        vertical-align: middle;\n",
       "    }\n",
       "\n",
       "    .dataframe tbody tr th {\n",
       "        vertical-align: top;\n",
       "    }\n",
       "\n",
       "    .dataframe thead th {\n",
       "        text-align: right;\n",
       "    }\n",
       "</style>\n",
       "<table border=\"1\" class=\"dataframe\">\n",
       "  <thead>\n",
       "    <tr style=\"text-align: right;\">\n",
       "      <th></th>\n",
       "      <th>SepalLengthCm</th>\n",
       "      <th>SepalWidthCm</th>\n",
       "      <th>PetalLengthCm</th>\n",
       "      <th>PetalWidthCm</th>\n",
       "      <th>Species</th>\n",
       "    </tr>\n",
       "  </thead>\n",
       "  <tbody>\n",
       "    <tr>\n",
       "      <th>14</th>\n",
       "      <td>5.8</td>\n",
       "      <td>4.0</td>\n",
       "      <td>1.2</td>\n",
       "      <td>0.2</td>\n",
       "      <td>0</td>\n",
       "    </tr>\n",
       "    <tr>\n",
       "      <th>112</th>\n",
       "      <td>6.8</td>\n",
       "      <td>3.0</td>\n",
       "      <td>5.5</td>\n",
       "      <td>2.1</td>\n",
       "      <td>2</td>\n",
       "    </tr>\n",
       "    <tr>\n",
       "      <th>40</th>\n",
       "      <td>5.0</td>\n",
       "      <td>3.5</td>\n",
       "      <td>1.3</td>\n",
       "      <td>0.3</td>\n",
       "      <td>0</td>\n",
       "    </tr>\n",
       "    <tr>\n",
       "      <th>134</th>\n",
       "      <td>6.1</td>\n",
       "      <td>2.6</td>\n",
       "      <td>5.6</td>\n",
       "      <td>1.4</td>\n",
       "      <td>2</td>\n",
       "    </tr>\n",
       "    <tr>\n",
       "      <th>145</th>\n",
       "      <td>6.7</td>\n",
       "      <td>3.0</td>\n",
       "      <td>5.2</td>\n",
       "      <td>2.3</td>\n",
       "      <td>2</td>\n",
       "    </tr>\n",
       "  </tbody>\n",
       "</table>\n",
       "</div>"
      ],
      "text/plain": [
       "     SepalLengthCm  SepalWidthCm  PetalLengthCm  PetalWidthCm  Species\n",
       "14             5.8           4.0            1.2           0.2        0\n",
       "112            6.8           3.0            5.5           2.1        2\n",
       "40             5.0           3.5            1.3           0.3        0\n",
       "134            6.1           2.6            5.6           1.4        2\n",
       "145            6.7           3.0            5.2           2.3        2"
      ]
     },
     "execution_count": 6,
     "metadata": {},
     "output_type": "execute_result"
    }
   ],
   "source": [
    "df = df.sample(frac=1)\n",
    "df.head()"
   ]
  },
  {
   "cell_type": "code",
   "execution_count": 7,
   "metadata": {},
   "outputs": [
    {
     "name": "stdout",
     "output_type": "stream",
     "text": [
      "(150, 5)\n",
      "[[5.8 4.  1.2 0.2 0. ]\n",
      " [6.8 3.  5.5 2.1 2. ]\n",
      " [5.  3.5 1.3 0.3 0. ]\n",
      " [6.1 2.6 5.6 1.4 2. ]\n",
      " [6.7 3.  5.2 2.3 2. ]\n",
      " [6.3 2.3 4.4 1.3 1. ]\n",
      " [5.2 3.4 1.4 0.2 0. ]\n",
      " [5.  3.4 1.6 0.4 0. ]\n",
      " [6.3 2.5 4.9 1.5 1. ]\n",
      " [4.6 3.2 1.4 0.2 0. ]\n",
      " [6.1 3.  4.6 1.4 1. ]\n",
      " [4.9 3.1 1.5 0.1 0. ]\n",
      " [6.7 2.5 5.8 1.8 2. ]\n",
      " [5.4 3.4 1.5 0.4 0. ]\n",
      " [6.9 3.1 4.9 1.5 1. ]\n",
      " [6.3 3.3 4.7 1.6 1. ]\n",
      " [5.3 3.7 1.5 0.2 0. ]\n",
      " [5.5 2.4 3.8 1.1 1. ]\n",
      " [6.2 2.8 4.8 1.8 2. ]\n",
      " [5.2 2.7 3.9 1.4 1. ]\n",
      " [7.7 2.6 6.9 2.3 2. ]\n",
      " [6.7 3.1 4.4 1.4 1. ]\n",
      " [4.6 3.6 1.  0.2 0. ]\n",
      " [5.1 2.5 3.  1.1 1. ]\n",
      " [4.6 3.1 1.5 0.2 0. ]\n",
      " [5.7 2.5 5.  2.  2. ]\n",
      " [6.  2.2 4.  1.  1. ]\n",
      " [7.3 2.9 6.3 1.8 2. ]\n",
      " [5.1 3.3 1.7 0.5 0. ]\n",
      " [5.5 3.5 1.3 0.2 0. ]\n",
      " [4.8 3.4 1.9 0.2 0. ]\n",
      " [4.9 3.1 1.5 0.1 0. ]\n",
      " [4.8 3.4 1.6 0.2 0. ]\n",
      " [6.7 3.1 4.7 1.5 1. ]\n",
      " [4.9 2.5 4.5 1.7 2. ]\n",
      " [4.9 2.4 3.3 1.  1. ]\n",
      " [6.8 3.2 5.9 2.3 2. ]\n",
      " [7.  3.2 4.7 1.4 1. ]\n",
      " [5.2 3.5 1.5 0.2 0. ]\n",
      " [6.1 2.8 4.  1.3 1. ]\n",
      " [4.4 3.2 1.3 0.2 0. ]\n",
      " [6.4 3.2 5.3 2.3 2. ]\n",
      " [6.2 2.2 4.5 1.5 1. ]\n",
      " [4.7 3.2 1.6 0.2 0. ]\n",
      " [6.5 3.2 5.1 2.  2. ]\n",
      " [6.3 2.5 5.  1.9 2. ]\n",
      " [5.  3.3 1.4 0.2 0. ]\n",
      " [5.6 2.5 3.9 1.1 1. ]\n",
      " [6.7 3.1 5.6 2.4 2. ]\n",
      " [5.  3.6 1.4 0.2 0. ]\n",
      " [6.4 2.7 5.3 1.9 2. ]\n",
      " [6.7 3.  5.  1.7 1. ]\n",
      " [5.7 2.8 4.5 1.3 1. ]\n",
      " [5.4 3.7 1.5 0.2 0. ]\n",
      " [5.9 3.  5.1 1.8 2. ]\n",
      " [6.4 2.8 5.6 2.2 2. ]\n",
      " [5.8 2.7 3.9 1.2 1. ]\n",
      " [5.5 2.6 4.4 1.2 1. ]\n",
      " [6.3 3.4 5.6 2.4 2. ]\n",
      " [5.9 3.  4.2 1.5 1. ]\n",
      " [5.1 3.4 1.5 0.2 0. ]\n",
      " [6.9 3.1 5.4 2.1 2. ]\n",
      " [6.3 2.9 5.6 1.8 2. ]\n",
      " [7.6 3.  6.6 2.1 2. ]\n",
      " [5.1 3.8 1.6 0.2 0. ]\n",
      " [6.4 2.9 4.3 1.3 1. ]\n",
      " [7.7 3.  6.1 2.3 2. ]\n",
      " [6.8 2.8 4.8 1.4 1. ]\n",
      " [4.9 3.1 1.5 0.1 0. ]\n",
      " [6.  2.7 5.1 1.6 1. ]\n",
      " [6.2 2.9 4.3 1.3 1. ]\n",
      " [7.2 3.6 6.1 2.5 2. ]\n",
      " [7.4 2.8 6.1 1.9 2. ]\n",
      " [4.4 2.9 1.4 0.2 0. ]\n",
      " [6.  3.  4.8 1.8 2. ]\n",
      " [6.4 3.1 5.5 1.8 2. ]\n",
      " [7.7 3.8 6.7 2.2 2. ]\n",
      " [6.  2.9 4.5 1.5 1. ]\n",
      " [4.5 2.3 1.3 0.3 0. ]\n",
      " [5.  3.4 1.5 0.2 0. ]\n",
      " [5.7 3.8 1.7 0.3 0. ]\n",
      " [7.2 3.2 6.  1.8 2. ]\n",
      " [4.3 3.  1.1 0.1 0. ]\n",
      " [5.6 2.9 3.6 1.3 1. ]\n",
      " [6.3 3.3 6.  2.5 2. ]\n",
      " [5.4 3.4 1.7 0.2 0. ]\n",
      " [7.7 2.8 6.7 2.  2. ]\n",
      " [6.3 2.8 5.1 1.5 2. ]\n",
      " [5.7 3.  4.2 1.2 1. ]\n",
      " [4.8 3.1 1.6 0.2 0. ]\n",
      " [5.2 4.1 1.5 0.1 0. ]\n",
      " [5.  3.  1.6 0.2 0. ]\n",
      " [6.6 2.9 4.6 1.3 1. ]\n",
      " [5.8 2.6 4.  1.2 1. ]\n",
      " [6.1 2.9 4.7 1.4 1. ]\n",
      " [6.9 3.1 5.1 2.3 2. ]\n",
      " [5.1 3.8 1.9 0.4 0. ]\n",
      " [6.5 3.  5.5 1.8 2. ]\n",
      " [5.6 3.  4.1 1.3 1. ]\n",
      " [6.6 3.  4.4 1.4 1. ]\n",
      " [6.2 3.4 5.4 2.3 2. ]\n",
      " [5.1 3.8 1.5 0.3 0. ]\n",
      " [5.7 4.4 1.5 0.4 0. ]\n",
      " [4.9 3.  1.4 0.2 0. ]\n",
      " [6.5 3.  5.8 2.2 2. ]\n",
      " [7.9 3.8 6.4 2.  2. ]\n",
      " [5.1 3.7 1.5 0.4 0. ]\n",
      " [4.8 3.  1.4 0.3 0. ]\n",
      " [5.5 2.4 3.7 1.  1. ]\n",
      " [5.5 4.2 1.4 0.2 0. ]\n",
      " [6.1 3.  4.9 1.8 2. ]\n",
      " [5.9 3.2 4.8 1.8 1. ]\n",
      " [6.5 2.8 4.6 1.5 1. ]\n",
      " [5.7 2.9 4.2 1.3 1. ]\n",
      " [5.  2.3 3.3 1.  1. ]\n",
      " [5.1 3.5 1.4 0.3 0. ]\n",
      " [5.4 3.9 1.7 0.4 0. ]\n",
      " [5.6 2.8 4.9 2.  2. ]\n",
      " [6.5 3.  5.2 2.  2. ]\n",
      " [6.7 3.3 5.7 2.5 2. ]\n",
      " [5.4 3.9 1.3 0.4 0. ]\n",
      " [6.  3.4 4.5 1.6 1. ]\n",
      " [5.7 2.6 3.5 1.  1. ]\n",
      " [5.8 2.7 5.1 1.9 2. ]\n",
      " [4.4 3.  1.3 0.2 0. ]\n",
      " [5.7 2.8 4.1 1.3 1. ]\n",
      " [6.4 3.2 4.5 1.5 1. ]\n",
      " [4.7 3.2 1.3 0.2 0. ]\n",
      " [7.2 3.  5.8 1.6 2. ]\n",
      " [7.1 3.  5.9 2.1 2. ]\n",
      " [4.8 3.  1.4 0.1 0. ]\n",
      " [6.3 2.7 4.9 1.8 2. ]\n",
      " [5.8 2.7 4.1 1.  1. ]\n",
      " [6.4 2.8 5.6 2.1 2. ]\n",
      " [5.8 2.8 5.1 2.4 2. ]\n",
      " [5.5 2.5 4.  1.3 1. ]\n",
      " [5.  3.5 1.6 0.6 0. ]\n",
      " [5.  3.2 1.2 0.2 0. ]\n",
      " [6.1 2.8 4.7 1.2 1. ]\n",
      " [6.  2.2 5.  1.5 2. ]\n",
      " [5.6 2.7 4.2 1.3 1. ]\n",
      " [5.5 2.3 4.  1.3 1. ]\n",
      " [6.7 3.3 5.7 2.1 2. ]\n",
      " [4.6 3.4 1.4 0.3 0. ]\n",
      " [5.  2.  3.5 1.  1. ]\n",
      " [5.1 3.5 1.4 0.2 0. ]\n",
      " [5.4 3.  4.5 1.5 1. ]\n",
      " [5.6 3.  4.5 1.5 1. ]\n",
      " [6.9 3.2 5.7 2.3 2. ]\n",
      " [5.8 2.7 5.1 1.9 2. ]]\n"
     ]
    }
   ],
   "source": [
    "data = np.array(df)\n",
    "print(data.shape)\n",
    "print(data)"
   ]
  },
  {
   "cell_type": "code",
   "execution_count": 8,
   "metadata": {},
   "outputs": [],
   "source": [
    "X_train_orig = data[0:100,0:-1]\n",
    "Y_train = data[0:100,-1:]\n",
    "Y_train_orig = data[0:100,-1:]\n",
    "X_test_orig = data[100:150,0:-1]\n",
    "Y_test = data[100:150,-1:]\n",
    "Y_test_orig = data[100:150,-1:]"
   ]
  },
  {
   "cell_type": "code",
   "execution_count": 9,
   "metadata": {},
   "outputs": [
    {
     "name": "stdout",
     "output_type": "stream",
     "text": [
      "(100, 4)\n",
      "(100, 1)\n",
      "(50, 4)\n",
      "(50, 1)\n"
     ]
    }
   ],
   "source": [
    "print(X_train_orig.shape)\n",
    "print(Y_train.shape)\n",
    "print(X_test_orig.shape)\n",
    "print(Y_test.shape)"
   ]
  },
  {
   "cell_type": "code",
   "execution_count": 10,
   "metadata": {},
   "outputs": [
    {
     "name": "stdout",
     "output_type": "stream",
     "text": [
      "(4, 100)\n",
      "(1, 100)\n",
      "(4, 50)\n",
      "(1, 50)\n"
     ]
    }
   ],
   "source": [
    "X_train_orig = X_train_orig.T\n",
    "Y_train = Y_train.T\n",
    "X_test_orig = X_test_orig.T\n",
    "Y_test = Y_test.T\n",
    "\n",
    "print(X_train_orig.shape)\n",
    "print(Y_train.shape)\n",
    "print(X_test_orig.shape)\n",
    "print(Y_test.shape)"
   ]
  },
  {
   "cell_type": "code",
   "execution_count": 11,
   "metadata": {},
   "outputs": [],
   "source": [
    "m_train = Y_train.shape[1]\n",
    "m_test = Y_test.shape[1]\n",
    "n = X_train_orig.shape[0]"
   ]
  },
  {
   "cell_type": "code",
   "execution_count": 12,
   "metadata": {},
   "outputs": [
    {
     "name": "stdout",
     "output_type": "stream",
     "text": [
      "(3, 100)\n",
      "(3, 50)\n"
     ]
    }
   ],
   "source": [
    "b = np.zeros((3,m_train))\n",
    "b[Y_train.astype(int),np.arange(m_train)]=1\n",
    "Y_train = b\n",
    "b = np.zeros((3,m_test))\n",
    "b[Y_test.astype(int),np.arange(m_test)]=1\n",
    "Y_test = b\n",
    "\n",
    "print(Y_train.shape)\n",
    "print(Y_test.shape)"
   ]
  },
  {
   "cell_type": "code",
   "execution_count": 13,
   "metadata": {},
   "outputs": [],
   "source": [
    "mn_train = X_train_orig.mean(axis=1, keepdims=True)\n",
    "sd_train = X_train_orig.std(axis=1, keepdims=True)\n",
    "mn_test = X_test_orig.mean(axis=1, keepdims=True)\n",
    "sd_test = X_test_orig.std(axis=1, keepdims=True)"
   ]
  },
  {
   "cell_type": "code",
   "execution_count": 14,
   "metadata": {},
   "outputs": [],
   "source": [
    "#standardize\n",
    "X_train = (X_train_orig - mn_train)/sd_train\n",
    "X_test = (X_test_orig - mn_test)/sd_test"
   ]
  },
  {
   "cell_type": "code",
   "execution_count": 15,
   "metadata": {},
   "outputs": [
    {
     "data": {
      "text/html": [
       "<div>\n",
       "<style scoped>\n",
       "    .dataframe tbody tr th:only-of-type {\n",
       "        vertical-align: middle;\n",
       "    }\n",
       "\n",
       "    .dataframe tbody tr th {\n",
       "        vertical-align: top;\n",
       "    }\n",
       "\n",
       "    .dataframe thead th {\n",
       "        text-align: right;\n",
       "    }\n",
       "</style>\n",
       "<table border=\"1\" class=\"dataframe\">\n",
       "  <thead>\n",
       "    <tr style=\"text-align: right;\">\n",
       "      <th></th>\n",
       "      <th>SepalLengthCm</th>\n",
       "      <th>SepalWidthCm</th>\n",
       "      <th>PetalLengthCm</th>\n",
       "      <th>PetalWidthCm</th>\n",
       "      <th>Species</th>\n",
       "    </tr>\n",
       "  </thead>\n",
       "  <tbody>\n",
       "    <tr>\n",
       "      <th>14</th>\n",
       "      <td>5.8</td>\n",
       "      <td>4.0</td>\n",
       "      <td>1.2</td>\n",
       "      <td>0.2</td>\n",
       "      <td>0</td>\n",
       "    </tr>\n",
       "    <tr>\n",
       "      <th>112</th>\n",
       "      <td>6.8</td>\n",
       "      <td>3.0</td>\n",
       "      <td>5.5</td>\n",
       "      <td>2.1</td>\n",
       "      <td>2</td>\n",
       "    </tr>\n",
       "    <tr>\n",
       "      <th>40</th>\n",
       "      <td>5.0</td>\n",
       "      <td>3.5</td>\n",
       "      <td>1.3</td>\n",
       "      <td>0.3</td>\n",
       "      <td>0</td>\n",
       "    </tr>\n",
       "    <tr>\n",
       "      <th>134</th>\n",
       "      <td>6.1</td>\n",
       "      <td>2.6</td>\n",
       "      <td>5.6</td>\n",
       "      <td>1.4</td>\n",
       "      <td>2</td>\n",
       "    </tr>\n",
       "    <tr>\n",
       "      <th>145</th>\n",
       "      <td>6.7</td>\n",
       "      <td>3.0</td>\n",
       "      <td>5.2</td>\n",
       "      <td>2.3</td>\n",
       "      <td>2</td>\n",
       "    </tr>\n",
       "  </tbody>\n",
       "</table>\n",
       "</div>"
      ],
      "text/plain": [
       "     SepalLengthCm  SepalWidthCm  PetalLengthCm  PetalWidthCm  Species\n",
       "14             5.8           4.0            1.2           0.2        0\n",
       "112            6.8           3.0            5.5           2.1        2\n",
       "40             5.0           3.5            1.3           0.3        0\n",
       "134            6.1           2.6            5.6           1.4        2\n",
       "145            6.7           3.0            5.2           2.3        2"
      ]
     },
     "execution_count": 15,
     "metadata": {},
     "output_type": "execute_result"
    }
   ],
   "source": [
    "df.head()"
   ]
  },
  {
   "cell_type": "code",
   "execution_count": 16,
   "metadata": {},
   "outputs": [
    {
     "data": {
      "image/png": "[encoded data removed]",
      "text/plain": [
       "<Figure size 432x288 with 1 Axes>"
      ]
     },
     "metadata": {},
     "output_type": "display_data"
    }
   ],
   "source": [
    "plt.scatter(X_train[0,:],X_train[1,:], marker='o',s=35, c=Y_train_orig.reshape(m_train))\n",
    "plt.ylabel('SepalWidthCm')\n",
    "plt.xlabel('SepalLengthCm')\n",
    "plt.show()"
   ]
  },
  {
   "cell_type": "code",
   "execution_count": 17,
   "metadata": {},
   "outputs": [
    {
     "data": {
      "image/png": "[encoded data removed]",
      "text/plain": [
       "<Figure size 432x288 with 1 Axes>"
      ]
     },
     "metadata": {},
     "output_type": "display_data"
    }
   ],
   "source": [
    "plt.scatter(X_train[2,:],X_train[3,:], marker='o',s=35, c=Y_train_orig.reshape(m_train))\n",
    "plt.ylabel('PetalWidthCm')\n",
    "plt.xlabel('PetalLengthCm')\n",
    "plt.show()"
   ]
  },
  {
   "cell_type": "code",
   "execution_count": 18,
   "metadata": {},
   "outputs": [],
   "source": [
    "def sigmoid(z):\n",
    "    return 1/(1+np.exp(-z))"
   ]
  },
  {
   "cell_type": "code",
   "execution_count": 19,
   "metadata": {},
   "outputs": [],
   "source": [
    "def layer_sizes(X, Y):\n",
    "    nx = X.shape[0]\n",
    "    ny = Y.shape[0]\n",
    "    \n",
    "    return (nx, ny)\n"
   ]
  },
  {
   "cell_type": "code",
   "execution_count": 20,
   "metadata": {},
   "outputs": [],
   "source": [
    "def ini_params(nx,nh,ny):\n",
    "    np.random.seed(2)\n",
    "    W1 = np.random.randn(nh,nx)\n",
    "    b1 = np.zeros((nh,1))\n",
    "    W2 = np.random.randn(ny,nh)\n",
    "    b2 = np.zeros((ny,1))\n",
    "    \n",
    "    params = {\n",
    "        \"W1\":W1,\n",
    "        \"b1\":b1,\n",
    "        \"W2\":W2,\n",
    "        \"b2\":b2\n",
    "    }\n",
    "    \n",
    "    return params\n"
   ]
  },
  {
   "cell_type": "code",
   "execution_count": 21,
   "metadata": {},
   "outputs": [],
   "source": [
    "def for_prop(X, params):\n",
    "    W1 = params[\"W1\"]\n",
    "    b1 = params[\"b1\"]\n",
    "    W2 = params[\"W2\"]\n",
    "    b2 = params[\"b2\"]\n",
    "    \n",
    "    Z1 = np.dot(W1,X) + b1\n",
    "    A1 = sigmoid(Z1)\n",
    "    \n",
    "    Z2 = np.dot(W2,A1) + b2\n",
    "    A2 = sigmoid(Z2)\n",
    "    \n",
    "    cache = {\n",
    "        \"Z1\":Z1,\n",
    "        \"A1\":A1,\n",
    "        \"Z2\":Z2,\n",
    "        \"A2\":A2\n",
    "    }\n",
    "    \n",
    "    return cache\n"
   ]
  },
  {
   "cell_type": "code",
   "execution_count": 22,
   "metadata": {},
   "outputs": [],
   "source": [
    "def compute_cost(A,Y):\n",
    "    cost = Y*np.log(A) + (1-Y)*np.log(1-A)\n",
    "    cost = -np.sum(cost,axis=1,keepdims=True)/m_train\n",
    "    \n",
    "    return cost\n"
   ]
  },
  {
   "cell_type": "code",
   "execution_count": 23,
   "metadata": {},
   "outputs": [],
   "source": [
    "def back_prop(params,cache,X,Y):\n",
    "    W1 = params[\"W1\"]\n",
    "    A1 = cache[\"A1\"]\n",
    "    W2 = params[\"W2\"]\n",
    "    A2 = cache[\"A2\"]\n",
    "    \n",
    "    dZ2 = A2-Y\n",
    "    dW2 = np.dot(dZ2,A1.T)/m_train\n",
    "    db2 = np.sum(dZ2, axis=1, keepdims=True)\n",
    "    \n",
    "    dZ1 = np.dot(W2.T, dZ2)*(A1*(1-A1))\n",
    "    dW1 = np.dot(dZ1,X.T)/m_train\n",
    "    db1 = np.sum(dZ1, axis=1, keepdims=True)\n",
    "    \n",
    "    grads = {\n",
    "        \"dW1\":dW1,\n",
    "        \"db1\":db1,\n",
    "        \"dW2\":dW2,\n",
    "        \"db2\":db2\n",
    "    }\n",
    "    \n",
    "    return grads"
   ]
  },
  {
   "cell_type": "code",
   "execution_count": 24,
   "metadata": {},
   "outputs": [],
   "source": [
    "def update_params(params,grads,alpha):\n",
    "    W1 = params[\"W1\"]\n",
    "    b1 = params[\"b1\"]\n",
    "    W2 = params[\"W2\"]\n",
    "    b2 = params[\"b2\"]\n",
    "    \n",
    "    dW1 = grads[\"dW1\"]\n",
    "    db1 = grads[\"db1\"]\n",
    "    dW2 = grads[\"dW2\"]\n",
    "    db2 = grads[\"db2\"]\n",
    "    \n",
    "    W1 = W1 - alpha*dW1\n",
    "    b1 = b1 - alpha*db1\n",
    "    W2 = W2 - alpha*dW2\n",
    "    b2 = b2 - alpha*db2\n",
    "    \n",
    "    params[\"W1\"] = W1\n",
    "    params[\"b1\"] = b1\n",
    "    params[\"W2\"] = W2\n",
    "    params[\"b2\"] = b2\n",
    "    \n",
    "    return params\n"
   ]
  },
  {
   "cell_type": "code",
   "execution_count": 25,
   "metadata": {},
   "outputs": [],
   "source": [
    "def lg_model(X, Y, nh, alpha, num_iter):\n",
    "    nx,ny = layer_sizes(X,Y)\n",
    "    params = ini_params(nx,nh,ny)\n",
    "    \n",
    "    costs = []\n",
    "    for i in range(num_iter):\n",
    "        \n",
    "        cache = for_prop(X,params)\n",
    "        \n",
    "        A2 = cache[\"A2\"]\n",
    "        \n",
    "        cost = compute_cost(A2,Y)\n",
    "        costs.append(np.sum(cost)/3)\n",
    "        \n",
    "        grads = back_prop(params, cache, X, Y)\n",
    "        \n",
    "        params = update_params(params, grads, alpha)\n",
    "        \n",
    "    \n",
    "    return (costs,params)\n"
   ]
  },
  {
   "cell_type": "code",
   "execution_count": 26,
   "metadata": {},
   "outputs": [],
   "source": [
    "def predict(X, params):\n",
    "    cache = for_prop(X, params)\n",
    "    A2 = cache[\"A2\"]\n",
    "    \n",
    "    pred = np.argmax(A2, axis=0)\n",
    "    return pred\n"
   ]
  },
  {
   "cell_type": "code",
   "execution_count": 37,
   "metadata": {},
   "outputs": [],
   "source": [
    "costs,params = lg_model(X_train, Y_train, nh=8, alpha=0.03, num_iter=10000)"
   ]
  },
  {
   "cell_type": "code",
   "execution_count": 38,
   "metadata": {},
   "outputs": [
    {
     "data": {
      "image/png": "[encoded data removed]",
      "text/plain": [
       "<Figure size 432x288 with 1 Axes>"
      ]
     },
     "metadata": {},
     "output_type": "display_data"
    }
   ],
   "source": [
    "plt.plot(costs)\n",
    "plt.show()"
   ]
  },
  {
   "cell_type": "code",
   "execution_count": 39,
   "metadata": {},
   "outputs": [
    {
     "name": "stdout",
     "output_type": "stream",
     "text": [
      "train accuracy is 33.339999999999996\n",
      "test accuracy is 33.36\n"
     ]
    }
   ],
   "source": [
    "pred = predict(X_train, params)\n",
    "acc_train = np.mean(Y_train_orig==pred)*100\n",
    "pred = predict(X_test, params)\n",
    "acc_test = np.mean(Y_test_orig==pred)*100\n",
    "\n",
    "print(\"train accuracy is\",acc_train)\n",
    "\n",
    "print(\"test accuracy is\",acc_test)"
   ]
  },
  {
   "cell_type": "code",
   "execution_count": null,
   "metadata": {},
   "outputs": [],
   "source": [
    "a = np.arange(16).reshape(4,4)\n",
    "print(a)\n",
    "b= np.argmax(a, axis=0)\n",
    "print(b)"
   ]
  },
  {
   "cell_type": "code",
   "execution_count": null,
   "metadata": {},
   "outputs": [],
   "source": []
  }
 ],
 "metadata": {
  "kernelspec": {
   "display_name": "Python 3",
   "language": "python",
   "name": "python3"
  },
  "language_info": {
   "codemirror_mode": {
    "name": "ipython",
    "version": 3
   },
   "file_extension": ".py",
   "mimetype": "text/x-python",
   "name": "python",
   "nbconvert_exporter": "python",
   "pygments_lexer": "ipython3",
   "version": "3.6.5"
  }
 },
 "nbformat": 4,
 "nbformat_minor": 2
}
